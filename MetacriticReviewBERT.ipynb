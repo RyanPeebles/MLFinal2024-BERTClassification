{
 "cells": [
  {
   "cell_type": "code",
   "execution_count": 3,
   "id": "44b4bcb2-c85b-4c74-98c8-b3eddd203bb9",
   "metadata": {},
   "outputs": [
    {
     "data": {
      "text/html": [
       "<div>\n",
       "<style scoped>\n",
       "    .dataframe tbody tr th:only-of-type {\n",
       "        vertical-align: middle;\n",
       "    }\n",
       "\n",
       "    .dataframe tbody tr th {\n",
       "        vertical-align: top;\n",
       "    }\n",
       "\n",
       "    .dataframe thead th {\n",
       "        text-align: right;\n",
       "    }\n",
       "</style>\n",
       "<table border=\"1\" class=\"dataframe\">\n",
       "  <thead>\n",
       "    <tr style=\"text-align: right;\">\n",
       "      <th></th>\n",
       "      <th>ID</th>\n",
       "      <th>Game</th>\n",
       "      <th>Website</th>\n",
       "      <th>Review</th>\n",
       "      <th>Score</th>\n",
       "    </tr>\n",
       "  </thead>\n",
       "  <tbody>\n",
       "    <tr>\n",
       "      <th>0</th>\n",
       "      <td>1</td>\n",
       "      <td>The Legend of Zelda: Ocarina of Time</td>\n",
       "      <td>Nintendorks</td>\n",
       "      <td>The biggest, most heartpounding and awe-inspir...</td>\n",
       "      <td>9</td>\n",
       "    </tr>\n",
       "    <tr>\n",
       "      <th>1</th>\n",
       "      <td>2</td>\n",
       "      <td>The Legend of Zelda: Ocarina of Time</td>\n",
       "      <td>Weekly Famitsu</td>\n",
       "      <td>10 / 10 / 10 / 10 - platinum [first ever perfe...</td>\n",
       "      <td>9</td>\n",
       "    </tr>\n",
       "    <tr>\n",
       "      <th>2</th>\n",
       "      <td>3</td>\n",
       "      <td>The Legend of Zelda: Ocarina of Time</td>\n",
       "      <td>Gaming Maxx</td>\n",
       "      <td>Nothing but pure 100% fun, challenging, and le...</td>\n",
       "      <td>9</td>\n",
       "    </tr>\n",
       "    <tr>\n",
       "      <th>3</th>\n",
       "      <td>4</td>\n",
       "      <td>The Legend of Zelda: Ocarina of Time</td>\n",
       "      <td>IGN</td>\n",
       "      <td>Call us crazy, but when the final version of Z...</td>\n",
       "      <td>9</td>\n",
       "    </tr>\n",
       "    <tr>\n",
       "      <th>4</th>\n",
       "      <td>5</td>\n",
       "      <td>The Legend of Zelda: Ocarina of Time</td>\n",
       "      <td>Nintendojo</td>\n",
       "      <td>[Review Score = 110]  What's significant about...</td>\n",
       "      <td>9</td>\n",
       "    </tr>\n",
       "    <tr>\n",
       "      <th>...</th>\n",
       "      <td>...</td>\n",
       "      <td>...</td>\n",
       "      <td>...</td>\n",
       "      <td>...</td>\n",
       "      <td>...</td>\n",
       "    </tr>\n",
       "    <tr>\n",
       "      <th>321243</th>\n",
       "      <td>322648</td>\n",
       "      <td>Family Party: 30 Great Games Obstacle Arcade</td>\n",
       "      <td>Nintendo Life</td>\n",
       "      <td>As clunky and poorly considered as its title, ...</td>\n",
       "      <td>1</td>\n",
       "    </tr>\n",
       "    <tr>\n",
       "      <th>321244</th>\n",
       "      <td>322649</td>\n",
       "      <td>Family Party: 30 Great Games Obstacle Arcade</td>\n",
       "      <td>Game Revolution</td>\n",
       "      <td>Family Party is terrible. Not only is it bad, ...</td>\n",
       "      <td>0</td>\n",
       "    </tr>\n",
       "    <tr>\n",
       "      <th>321245</th>\n",
       "      <td>322650</td>\n",
       "      <td>Disney Dreamlight Valley</td>\n",
       "      <td>God is a Geek</td>\n",
       "      <td>Disney Dreamlight Valley is brimming with Disn...</td>\n",
       "      <td>9</td>\n",
       "    </tr>\n",
       "    <tr>\n",
       "      <th>321246</th>\n",
       "      <td>322651</td>\n",
       "      <td>Disney Dreamlight Valley</td>\n",
       "      <td>Noisy Pixel</td>\n",
       "      <td>If the change had happened much sooner, with e...</td>\n",
       "      <td>7</td>\n",
       "    </tr>\n",
       "    <tr>\n",
       "      <th>321247</th>\n",
       "      <td>322652</td>\n",
       "      <td>Disney Dreamlight Valley</td>\n",
       "      <td>PC Gamer</td>\n",
       "      <td>Steep costs and microtransactions taint an oth...</td>\n",
       "      <td>6</td>\n",
       "    </tr>\n",
       "  </tbody>\n",
       "</table>\n",
       "<p>321226 rows × 5 columns</p>\n",
       "</div>"
      ],
      "text/plain": [
       "            ID                                          Game          Website  \\\n",
       "0            1          The Legend of Zelda: Ocarina of Time      Nintendorks   \n",
       "1            2          The Legend of Zelda: Ocarina of Time   Weekly Famitsu   \n",
       "2            3          The Legend of Zelda: Ocarina of Time      Gaming Maxx   \n",
       "3            4          The Legend of Zelda: Ocarina of Time              IGN   \n",
       "4            5          The Legend of Zelda: Ocarina of Time       Nintendojo   \n",
       "...        ...                                           ...              ...   \n",
       "321243  322648  Family Party: 30 Great Games Obstacle Arcade    Nintendo Life   \n",
       "321244  322649  Family Party: 30 Great Games Obstacle Arcade  Game Revolution   \n",
       "321245  322650                      Disney Dreamlight Valley    God is a Geek   \n",
       "321246  322651                      Disney Dreamlight Valley      Noisy Pixel   \n",
       "321247  322652                      Disney Dreamlight Valley         PC Gamer   \n",
       "\n",
       "                                                   Review  Score  \n",
       "0       The biggest, most heartpounding and awe-inspir...      9  \n",
       "1       10 / 10 / 10 / 10 - platinum [first ever perfe...      9  \n",
       "2       Nothing but pure 100% fun, challenging, and le...      9  \n",
       "3       Call us crazy, but when the final version of Z...      9  \n",
       "4       [Review Score = 110]  What's significant about...      9  \n",
       "...                                                   ...    ...  \n",
       "321243  As clunky and poorly considered as its title, ...      1  \n",
       "321244  Family Party is terrible. Not only is it bad, ...      0  \n",
       "321245  Disney Dreamlight Valley is brimming with Disn...      9  \n",
       "321246  If the change had happened much sooner, with e...      7  \n",
       "321247  Steep costs and microtransactions taint an oth...      6  \n",
       "\n",
       "[321226 rows x 5 columns]"
      ]
     },
     "execution_count": 3,
     "metadata": {},
     "output_type": "execute_result"
    }
   ],
   "source": [
    "import pandas as pd\n",
    "import torch\n",
    "import pickle\n",
    "from sklearn.model_selection import train_test_split\n",
    "from transformers import BertTokenizer\n",
    "import concurrent.futures\n",
    "\n",
    "\n",
    "df = pd.read_csv('reviews.csv').dropna(subset=['Review'])\n",
    "df['Review'] = df['Review'].astype(str)\n",
    "\n",
    "\n",
    "def map_scores_to_categories(score):\n",
    "    # Calculate the category based on score range\n",
    "    category = min(score // 10, 9)\n",
    "    return category\n",
    "\n",
    "\n",
    "df['Score'] = df['Score'].apply(map_scores_to_categories)\n",
    "\n",
    "df"
   ]
  },
  {
   "cell_type": "code",
   "execution_count": 4,
   "id": "2b236871-ab9d-406b-bdf7-9f29154523d9",
   "metadata": {},
   "outputs": [],
   "source": [
    "device = torch.device('cuda' if torch.cuda.is_available() else 'cpu')\n",
    "# Split the dat# Split the dataset\n",
    "train_texts, val_texts, train_labels, val_labels = train_test_split(\n",
    "    df['Review'], df['Score'], stratify=df['Score'], test_size=0.2\n",
    ")\n",
    "\n",
    "# Initialize the tokenizer\n",
    "tokenizer = BertTokenizer.from_pretrained('bert-base-uncased', max_length=256)\n",
    "\n",
    "# Function to tokenize a batch of texts\n",
    "def batch_tokenize(texts):\n",
    "    return tokenizer(texts, truncation=True, padding=True, max_length=256, return_tensors = 'pt')\n",
    "\n",
    "# Function to process texts in parallel\n",
    "def parallel_tokenize(texts, chunk_size=100):\n",
    "    # Split texts into chunks\n",
    "    chunks = [texts[i:i + chunk_size] for i in range(0, len(texts), chunk_size)]\n",
    "    \n",
    "    # Process each chunk in parallel\n",
    "    with concurrent.futures.ThreadPoolExecutor() as executor:\n",
    "        results = list(executor.map(batch_tokenize, chunks))\n",
    "    \n",
    "    # Initialize combined results\n",
    "    combined_results = {key: [] for key in results[0]}\n",
    "    for result in results:\n",
    "        for key in result:\n",
    "            combined_results[key].extend(result[key])\n",
    "    \n",
    "    return combined_results\n"
   ]
  },
  {
   "cell_type": "code",
   "execution_count": 5,
   "id": "2ad68b07-fcb3-4488-be09-de55bdc39dbd",
   "metadata": {},
   "outputs": [],
   "source": [
    "# Tokenize the texts in parallel\n",
    "train_encodings = parallel_tokenize(list(train_texts))\n",
    "val_encodings = parallel_tokenize(list(val_texts))\n"
   ]
  },
  {
   "cell_type": "code",
   "execution_count": null,
   "id": "b39ef6a1-8097-419f-89ae-79755d4b04a7",
   "metadata": {},
   "outputs": [],
   "source": [
    "\n"
   ]
  },
  {
   "cell_type": "code",
   "execution_count": null,
   "id": "54d199e7-6145-4034-b144-6a439658bcaf",
   "metadata": {},
   "outputs": [],
   "source": []
  },
  {
   "cell_type": "code",
   "execution_count": 6,
   "id": "cfd62640-977a-459d-947c-e93364911273",
   "metadata": {},
   "outputs": [],
   "source": [
    "def save_data(data, file_path):\n",
    "    with open(file_path, 'wb') as file:\n",
    "        torch.save(data, file)\n",
    "\n",
    "# Save train and validation data\n",
    "save_data(train_encodings, 'train_meta_encodings_random.pkl')\n",
    "save_data(val_encodings, 'val_meta_encodings_random.pkl')\n",
    "save_data(train_labels.tolist(), 'train_meta_labels_random.pkl')\n",
    "save_data(val_labels.tolist(), 'val_meta_labels_random.pkl')"
   ]
  },
  {
   "cell_type": "code",
   "execution_count": 7,
   "id": "abc1c5ea-41df-4dd2-b1e8-ddfe7fa688a9",
   "metadata": {},
   "outputs": [],
   "source": [
    "import pandas as pd\n",
    "import torch\n",
    "import pickle\n",
    "from sklearn.model_selection import train_test_split\n",
    "from transformers import BertTokenizer, BertForSequenceClassification, Trainer, TrainingArguments\n",
    "import concurrent.futures\n",
    "\n",
    "# Function to load encodings from disk\n",
    "def load_encodings(file_path):\n",
    "    with open(file_path, 'rb') as file:\n",
    "        encodings = torch.load(file)\n",
    "    return encodings\n",
    "\n",
    "# Load train and validation encodings\n",
    "train_encodings = load_encodings('train_meta_encodings_random.pkl')\n",
    "val_encodings = load_encodings('val_meta_encodings_random.pkl')\n",
    "\n",
    "\n",
    "# Function to load labels from disk\n",
    "def load_labels(file_path):\n",
    "    with open(file_path, 'rb') as file:\n",
    "        labels = torch.load(file)\n",
    "    return labels\n",
    "\n",
    "# Load train and validation labels\n",
    "train_labels = load_labels('train_meta_labels_random.pkl')\n",
    "val_labels = load_labels('val_meta_labels_random.pkl')\n"
   ]
  },
  {
   "cell_type": "code",
   "execution_count": null,
   "id": "10a2e843-1163-4ca8-ac29-70b8fd069a5b",
   "metadata": {},
   "outputs": [],
   "source": []
  },
  {
   "cell_type": "code",
   "execution_count": 8,
   "id": "30c43739",
   "metadata": {},
   "outputs": [],
   "source": [
    "# Define multi-label dataset class\n",
    "class MultiLabelReviewDataset(torch.utils.data.Dataset):\n",
    "    def __init__(self, encodings, labels):\n",
    "        self.encodings = encodings\n",
    "        self.labels = labels\n",
    "\n",
    "    def __getitem__(self, idx):\n",
    "        item = {key: torch.tensor(val[idx]) for key, val in self.encodings.items()}\n",
    "        item['labels'] = torch.tensor(self.labels[idx], dtype=torch.long)  # Use float for multi-labels\n",
    "        return item\n",
    "\n",
    "    def __len__(self):\n",
    "        return len(self.labels)\n",
    "\n",
    "# Convert encodings and labels into a PyTorch dataset\n",
    "train_dataset = MultiLabelReviewDataset(train_encodings, train_labels)\n",
    "val_dataset = MultiLabelReviewDataset(val_encodings, val_labels)\n"
   ]
  },
  {
   "cell_type": "code",
   "execution_count": 9,
   "id": "a28d7cc0-f0bf-4949-a984-b806c93c8026",
   "metadata": {},
   "outputs": [
    {
     "name": "stdout",
     "output_type": "stream",
     "text": [
      "Disk space statistics:\n",
      "Total: 1863.00 GB\n",
      "Used: 472.18 GB\n",
      "Free: 1390.82 GB\n"
     ]
    }
   ],
   "source": [
    "import shutil\n",
    "import os\n",
    "\n",
    "\n",
    "total, used, free = shutil.disk_usage(\"/\")\n",
    "\n",
    "print(\"Disk space statistics:\")\n",
    "print(f\"Total: {total / (2**30):.2f} GB\")\n",
    "print(f\"Used: {used / (2**30):.2f} GB\")\n",
    "print(f\"Free: {free / (2**30):.2f} GB\")"
   ]
  },
  {
   "cell_type": "code",
   "execution_count": 21,
   "id": "68489368-b569-4961-9668-83d47b5a5e6d",
   "metadata": {},
   "outputs": [
    {
     "name": "stdout",
     "output_type": "stream",
     "text": [
      "Loading model from last checkpoint: ./results_meta\\checkpoint-160620\n"
     ]
    },
    {
     "name": "stderr",
     "output_type": "stream",
     "text": [
      "C:\\Users\\peebl\\AppData\\Local\\Packages\\PythonSoftwareFoundation.Python.3.12_qbz5n2kfra8p0\\LocalCache\\local-packages\\Python312\\site-packages\\accelerate\\accelerator.py:432: FutureWarning: Passing the following arguments to `Accelerator` is deprecated and will be removed in version 1.0 of Accelerate: dict_keys(['dispatch_batches', 'split_batches', 'even_batches', 'use_seedable_sampler']). Please pass an `accelerate.DataLoaderConfiguration` instead: \n",
      "dataloader_config = DataLoaderConfiguration(dispatch_batches=None, split_batches=False, even_batches=True, use_seedable_sampler=True)\n",
      "  warnings.warn(\n"
     ]
    },
    {
     "data": {
      "application/vnd.jupyter.widget-view+json": {
       "model_id": "dea1421d0cfd4e30aff5e6446d976408",
       "version_major": 2,
       "version_minor": 0
      },
      "text/plain": [
       "  0%|          | 0/160620 [00:00<?, ?it/s]"
      ]
     },
     "metadata": {},
     "output_type": "display_data"
    },
    {
     "name": "stdout",
     "output_type": "stream",
     "text": [
      "{'train_runtime': 0.5431, 'train_samples_per_second': 4731553.922, 'train_steps_per_second': 295735.929, 'train_loss': 0.0, 'epoch': 10.0}\n"
     ]
    },
    {
     "name": "stderr",
     "output_type": "stream",
     "text": [
      "C:\\Users\\peebl\\AppData\\Local\\Temp\\ipykernel_9028\\460231580.py:8: UserWarning: To copy construct from a tensor, it is recommended to use sourceTensor.clone().detach() or sourceTensor.clone().detach().requires_grad_(True), rather than torch.tensor(sourceTensor).\n",
      "  item = {key: torch.tensor(val[idx]) for key, val in self.encodings.items()}\n"
     ]
    },
    {
     "data": {
      "application/vnd.jupyter.widget-view+json": {
       "model_id": "d4219c755b464b98b0539a76f11d4608",
       "version_major": 2,
       "version_minor": 0
      },
      "text/plain": [
       "  0%|          | 0/251 [00:00<?, ?it/s]"
      ]
     },
     "metadata": {},
     "output_type": "display_data"
    },
    {
     "data": {
      "image/png": "[encoded data removed]",
      "text/plain": [
       "<Figure size 1000x500 with 1 Axes>"
      ]
     },
     "metadata": {},
     "output_type": "display_data"
    },
    {
     "name": "stdout",
     "output_type": "stream",
     "text": [
      "{'eval_loss': 0.4156457483768463, 'eval_runtime': 203.5238, 'eval_samples_per_second': 315.668, 'eval_steps_per_second': 1.233, 'epoch': 10.0}\n"
     ]
    }
   ],
   "source": [
    "import pandas as pd\n",
    "from transformers import BertTokenizer, BertForSequenceClassification, Trainer, TrainingArguments, DataCollatorWithPadding\n",
    "from sklearn.model_selection import train_test_split\n",
    "import os\n",
    "from transformers import BertTokenizer\n",
    "from matplotlib import pyplot as plt\n",
    "\n",
    "tokenizer = BertTokenizer.from_pretrained('bert-base-uncased', max_length=256)\n",
    "\n",
    "num_labels = len(set(train_labels))\n",
    "max_length = 128\n",
    "data_collator = DataCollatorWithPadding(tokenizer=tokenizer)\n",
    "\n",
    "df = pd.read_csv('reviews.csv').dropna(subset=['Review'])\n",
    "\n",
    "def find_last_checkpoint(output_dir):\n",
    "    \"\"\"\n",
    "    Finds the last checkpoint directory in the specified output directory.\n",
    "    Assumes checkpoint directories follow the format 'checkpoint-xxxx'.\n",
    "    \"\"\"\n",
    "    checkpoints = [os.path.join(output_dir, d) for d in os.listdir(output_dir) if d.startswith(\"checkpoint\")]\n",
    "    if not checkpoints:\n",
    "        return None\n",
    "    return max(checkpoints, key=os.path.getmtime)\n",
    "\n",
    "last_checkpoint = find_last_checkpoint('./results_meta')\n",
    "\n",
    "if last_checkpoint:\n",
    "    print(f\"Loading model from last checkpoint: {last_checkpoint}\")\n",
    "    model = BertForSequenceClassification.from_pretrained(last_checkpoint, num_labels=num_labels)\n",
    "    model = model.to(device)\n",
    "    x = True\n",
    "else:\n",
    "    print(\"No checkpoints found, initializing from base model.\")\n",
    "    model = BertForSequenceClassification.from_pretrained('bert-base-uncased', num_labels=num_labels)\n",
    "    model = model.to(device)\n",
    "    x = False\n",
    "\n",
    "# Training arguments\n",
    "training_args = TrainingArguments(\n",
    "    output_dir='./results_meta',     # Output directory to save checkpoints\n",
    "    num_train_epochs=10,             # Increased number of training epochs\n",
    "    per_device_train_batch_size=128,  # Batch size for training\n",
    "    per_device_eval_batch_size=256,   # Batch size for evaluation\n",
    "    warmup_steps=500,                # Number of warmup steps\n",
    "    weight_decay=0.01,               # Strength of weight decay\n",
    "    logging_dir='./logs_meta',\n",
    "    logging_strategy= \"epoch\",       # Directory for storing logs\n",
    "    logging_steps=10,                # How often to log loss values\n",
    "    evaluation_strategy=\"epoch\",     # Evaluate each epoch\n",
    "    save_strategy=\"epoch\",           # Save the model every epoch\n",
    "    load_best_model_at_end=True,     # Load the best model at the end of training\n",
    ")\n",
    "\n",
    "# Iinitialize the Trainer\n",
    "trainer = Trainer(\n",
    "    model=model,\n",
    "    args=training_args,\n",
    "    train_dataset=train_dataset,\n",
    "    eval_dataset=val_dataset,\n",
    "    data_collator=data_collator\n",
    ")\n",
    "\n",
    "\n",
    "trainer.train(resume_from_checkpoint=x)\n",
    "\n",
    "\n",
    "\n",
    "evaluation_results = trainer.evaluate()\n",
    "\n",
    "\n",
    "train_loss= []\n",
    "seen = []\n",
    "for elem in trainer.state.log_history:\n",
    "    if 'loss' in elem.keys():\n",
    "        if elem['epoch'].is_integer() and elem[\"epoch\"] not in seen:\n",
    "            train_loss.append(elem['loss'])\n",
    "            seen.append(elem[\"epoch\"])\n",
    "\n",
    "val_loss = []\n",
    "for elem in trainer.state.log_history:\n",
    "    if 'eval_loss' in elem.keys():\n",
    "        val_loss.append(elem['eval_loss'])\n",
    "\n",
    "\n",
    "plt.figure(figsize=(10, 5))\n",
    "plt.plot(train_loss, label='Training Loss')\n",
    "plt.plot(val_loss, color = \"red\", label='Validation Loss')\n",
    "plt.title('Training and Validation Loss over Epochs')\n",
    "plt.xlabel('Epochs')\n",
    "plt.ylabel('Loss')\n",
    "plt.legend()\n",
    "plt.show()\n",
    "print(evaluation_results)"
   ]
  },
  {
   "cell_type": "code",
   "execution_count": 22,
   "id": "3a66ebe4-241c-48e7-9a64-cf8b2ff2401e",
   "metadata": {},
   "outputs": [
    {
     "name": "stderr",
     "output_type": "stream",
     "text": [
      "<>:5: SyntaxWarning: invalid escape sequence '\\c'\n",
      "<>:5: SyntaxWarning: invalid escape sequence '\\c'\n",
      "C:\\Users\\peebl\\AppData\\Local\\Temp\\ipykernel_9028\\3514188478.py:5: SyntaxWarning: invalid escape sequence '\\c'\n",
      "  model_path = './results_meta\\checkpoint-48186'  # This path should point to the directory containing your saved model\n"
     ]
    },
    {
     "name": "stdout",
     "output_type": "stream",
     "text": [
      "Text: One of the best games I've every player perfect in every way, really makes you feel like Grimbly is in your room collecting creamed corn right with you\n",
      "Predicted label: LABEL_9 with score: 0.9851\n",
      "\n"
     ]
    }
   ],
   "source": [
    "from transformers import pipeline\n",
    "from transformers import BertTokenizer, BertForSequenceClassification, Trainer, TrainingArguments\n",
    "# Load the trained model and tokenizer into a pipeline\n",
    "# Make sure to adjust the model path if you've saved your model elsewhere\n",
    "model_path = './results_meta\\checkpoint-48186'  # This path should point to the directory containing your saved model\n",
    "tokenizer = BertTokenizer.from_pretrained('bert-base-uncased',max_length = 256)\n",
    "\n",
    "# Create a text classification pipeline\n",
    "classifier = pipeline(\"text-classification\", model=model_path, tokenizer=tokenizer)\n",
    "\n",
    "\n",
    "# Example text to classify\n",
    "texts = [\"One of the best games I've every player perfect in every way, really makes you feel like Grimbly is in your room collecting creamed corn right with you\"]\n",
    "\n",
    "# Make predictions\n",
    "predictions = classifier(texts)\n",
    "\n",
    "# Process and print predictions\n",
    "for text, prediction in zip(texts, predictions):\n",
    "    print(f\"Text: {text}\\nPredicted label: {prediction['label']} with score: {prediction['score']:.4f}\\n\")"
   ]
  },
  {
   "cell_type": "code",
   "execution_count": null,
   "id": "90aefbfa-a4a0-4684-b2cd-9262972cb1ef",
   "metadata": {},
   "outputs": [],
   "source": []
  }
 ],
 "metadata": {
  "kernelspec": {
   "display_name": "Python 3 (ipykernel)",
   "language": "python",
   "name": "python3"
  },
  "language_info": {
   "codemirror_mode": {
    "name": "ipython",
    "version": 3
   },
   "file_extension": ".py",
   "mimetype": "text/x-python",
   "name": "python",
   "nbconvert_exporter": "python",
   "pygments_lexer": "ipython3",
   "version": "3.12.3"
  }
 },
 "nbformat": 4,
 "nbformat_minor": 5
}
